{
 "cells": [
  {
   "cell_type": "code",
   "execution_count": null,
   "id": "fc02ff9e",
   "metadata": {},
   "outputs": [],
   "source": [
    "import pandas as pd\n",
    "\n",
    "data = '../data/processed/full_data.csv'\n",
    "df = pd.read_csv(data)\n",
    "\n",
    "df.sample(5)"
   ]
  },
  {
   "cell_type": "code",
   "execution_count": null,
   "id": "7b904cb1",
   "metadata": {},
   "outputs": [],
   "source": [
    "df.info()"
   ]
  },
  {
   "cell_type": "code",
   "execution_count": null,
   "id": "1acc01d6",
   "metadata": {},
   "outputs": [],
   "source": [
    "df[['reachable_area', 'isolation_index', 'barrier_density', 'median_income', 'disability_percentage']].describe()"
   ]
  },
  {
   "cell_type": "code",
   "execution_count": null,
   "id": "9011496a",
   "metadata": {},
   "outputs": [],
   "source": [
    "print(df['income_group'].value_counts())\n",
    "print(\"\\n\")\n",
    "print(df['disability_group'].value_counts())"
   ]
  },
  {
   "cell_type": "code",
   "execution_count": null,
   "id": "0560d411",
   "metadata": {},
   "outputs": [],
   "source": [
    "error_count = df['error'].notna().sum()\n",
    "print(f\"\\nNumber of stops that failed analysis: {error_count}\")"
   ]
  }
 ],
 "metadata": {
  "kernelspec": {
   "display_name": "Python 3",
   "language": "python",
   "name": "python3"
  },
  "language_info": {
   "codemirror_mode": {
    "name": "ipython",
    "version": 3
   },
   "file_extension": ".py",
   "mimetype": "text/x-python",
   "name": "python",
   "nbconvert_exporter": "python",
   "pygments_lexer": "ipython3",
   "version": "3.10.6"
  }
 },
 "nbformat": 4,
 "nbformat_minor": 5
}
